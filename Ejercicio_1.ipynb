{
  "nbformat": 4,
  "nbformat_minor": 0,
  "metadata": {
    "colab": {
      "provenance": [],
      "authorship_tag": "ABX9TyM3DBrFpMPRNdSY21Q6dlP7",
      "include_colab_link": true
    },
    "kernelspec": {
      "name": "python3",
      "display_name": "Python 3"
    },
    "language_info": {
      "name": "python"
    }
  },
  "cells": [
    {
      "cell_type": "markdown",
      "metadata": {
        "id": "view-in-github",
        "colab_type": "text"
      },
      "source": [
        "<a href=\"https://colab.research.google.com/github/Bere91/oto-o-22-Tarea-3/blob/main/Ejercicio_1.ipynb\" target=\"_parent\"><img src=\"https://colab.research.google.com/assets/colab-badge.svg\" alt=\"Open In Colab\"/></a>"
      ]
    },
    {
      "cell_type": "code",
      "execution_count": null,
      "metadata": {
        "id": "m0rLFAnA9yXR"
      },
      "outputs": [],
      "source": [
        "import tensorflow as tf\n",
        "from tensorflow import keras\n",
        "from tensorflow.keras.models import Sequential\n",
        "from tensorflow.keras.layers import Dense, Dropout\n",
        "from tensorflow.keras.optimizers import RMSprop, Adam\n",
        "import math\n",
        "from matplotlib import pyplot as plt\n",
        "import numpy as np\n",
        "class NUMfunction(Sequential):\n",
        "  def __init__(self, **kwargs):\n",
        "     super().__init__(**kwargs)\n",
        "     self.loss_trackers = keras.metrics.Mean(name='loss')\n",
        "  \n",
        "  @property\n",
        "  def metrics(self):\n",
        "    return [self.loss_trackers]"
      ]
    }
  ]
}